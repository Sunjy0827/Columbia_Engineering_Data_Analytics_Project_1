{
 "cells": [
  {
   "cell_type": "markdown",
   "id": "d776b054-1bde-4951-9388-dc9ebe5ae7b5",
   "metadata": {},
   "source": [
    "# **Project I**\n",
    "\n",
    "###### - Team Members: Karen Lin, Kevin Zhang, Sunjae Youm </br> - 6/17/2024 </br> - Data Source: https://catalog.data.gov/dataset/crash-reporting-drivers-data/resource/9851a37f-4f32-464e-8ba6-c23023653a7f\n",
    "\n",
    "### **Abstract**\n",
    "Our data team assumed that we received a request from the Montgomery County local government in Maryland. The purpose of the request was to determine how to use the county budget to improve traffic and reduce car accidents. To achieve this, we investigated traffic accident records from January 2015 to March 2024, analyzing the areas with the highest accident rates, the time periods with the most accidents, and whether there were traffic control regulations in place at the accident locations."
   ]
  },
  {
   "cell_type": "code",
   "execution_count": 1,
   "id": "e1259e1d-8fb5-4189-b038-b14780ba9f67",
   "metadata": {},
   "outputs": [],
   "source": [
    "# Dependencies\n",
    "\n",
    "import pandas as pd\n",
    "import numpy as np\n",
    "import requests\n",
    "import json"
   ]
  },
  {
   "cell_type": "code",
   "execution_count": null,
   "id": "91ee2ab2-35f9-4b8c-9c7d-1747ab7f9a4c",
   "metadata": {},
   "outputs": [],
   "source": []
  }
 ],
 "metadata": {
  "kernelspec": {
   "display_name": "Python 3 (ipykernel)",
   "language": "python",
   "name": "python3"
  },
  "language_info": {
   "codemirror_mode": {
    "name": "ipython",
    "version": 3
   },
   "file_extension": ".py",
   "mimetype": "text/x-python",
   "name": "python",
   "nbconvert_exporter": "python",
   "pygments_lexer": "ipython3",
   "version": "3.11.7"
  }
 },
 "nbformat": 4,
 "nbformat_minor": 5
}
